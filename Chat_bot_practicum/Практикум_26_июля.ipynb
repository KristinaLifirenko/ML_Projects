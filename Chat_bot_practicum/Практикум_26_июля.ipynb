{
  "nbformat": 4,
  "nbformat_minor": 0,
  "metadata": {
    "colab": {
      "name": "Практикум_26_июля.ipynb",
      "provenance": [],
      "collapsed_sections": []
    },
    "kernelspec": {
      "name": "python3",
      "display_name": "Python 3"
    }
  },
  "cells": [
    {
      "cell_type": "markdown",
      "metadata": {
        "id": "-Oo2xmWdl7-d",
        "colab_type": "text"
      },
      "source": [
        "# Привет, это тестовый ноутбук, чтобы проверить, что у вас получилось сюда зайти :)"
      ]
    },
    {
      "cell_type": "markdown",
      "metadata": {
        "id": "ej-NU6QxmQ-7",
        "colab_type": "text"
      },
      "source": [
        "Давайте для начала проверим, что вы можете импортировать библиотеки! \n",
        "\n",
        "Нажмите на ячейку снизу, далее нажмите на значок Run Cell, находится слева от ячейки. (Если вы пользователь Windows можете нажать сочетание клавиш Ctrl+Enter)"
      ]
    },
    {
      "cell_type": "code",
      "metadata": {
        "id": "X2I39Ta4mXfX",
        "colab_type": "code",
        "colab": {}
      },
      "source": [
        "#Проверка загрузки библиотеки\n",
        "import pandas as pd"
      ],
      "execution_count": null,
      "outputs": []
    },
    {
      "cell_type": "markdown",
      "metadata": {
        "id": "TdlYJs51mv_y",
        "colab_type": "text"
      },
      "source": [
        "Если у вас не появилось ошибки, то всё отлично!\n",
        "Давайте теперь попробуем вычислить выражение:\n",
        "\n",
        "\n"
      ]
    },
    {
      "cell_type": "code",
      "metadata": {
        "id": "rTVdiWiemusB",
        "colab_type": "code",
        "colab": {
          "base_uri": "https://localhost:8080/",
          "height": 34
        },
        "outputId": "ab56ede9-673e-453b-a8af-5077fe94dcc3"
      },
      "source": [
        "#Проверка пример\n",
        "13 + 8 - 5 "
      ],
      "execution_count": null,
      "outputs": [
        {
          "output_type": "execute_result",
          "data": {
            "text/plain": [
              "16"
            ]
          },
          "metadata": {
            "tags": []
          },
          "execution_count": 5
        }
      ]
    },
    {
      "cell_type": "markdown",
      "metadata": {
        "id": "F6inc4funHeg",
        "colab_type": "text"
      },
      "source": [
        "Если вы получили правильный результат, то вы готовы к работе :)\n"
      ]
    },
    {
      "cell_type": "markdown",
      "metadata": {
        "id": "AJ5KcECPKZql",
        "colab_type": "text"
      },
      "source": [
        "# Что мы будем сегодня делать?"
      ]
    },
    {
      "cell_type": "markdown",
      "metadata": {
        "id": "4x5bhxWWKcJ7",
        "colab_type": "text"
      },
      "source": [
        "![Machine Learning](https://miro.medium.com/max/1000/1*qHbAsMNmdWQJkzm2SUA-8w.jpeg)"
      ]
    },
    {
      "cell_type": "markdown",
      "metadata": {
        "id": "NMcNKd9zKgxw",
        "colab_type": "text"
      },
      "source": [
        "# ЧАСТЬ 1 - DialogFlow\n",
        "![ai-chat](https://knowmax.ai/wp-content/uploads/2019/12/AI-chatbot.png)"
      ]
    },
    {
      "cell_type": "markdown",
      "metadata": {
        "id": "899KxZA7KiqK",
        "colab_type": "text"
      },
      "source": [
        "**DialogFlow** - Библиотека от гугла для написания своих текстовых ботов"
      ]
    },
    {
      "cell_type": "markdown",
      "metadata": {
        "id": "unXZLdYyKkXV",
        "colab_type": "text"
      },
      "source": [
        "# В питоне библиотеки являются неотъемлимой частью языка"
      ]
    },
    {
      "cell_type": "markdown",
      "metadata": {
        "id": "t-41dH6XKmGO",
        "colab_type": "text"
      },
      "source": [
        "Чтобы установить какую-нибудь библиотеку, нам нужно написать ключевое слово **pip** - это означает вызов пакетного менеджера python, далее нужно написать **install**, что означает установить. Восклицательный знак означает, что мы хотим вызвать это из оболочки операционной системы, а не из **Python**"
      ]
    },
    {
      "cell_type": "code",
      "metadata": {
        "id": "6a5mY2BHKnWo",
        "colab_type": "code",
        "colab": {
          "base_uri": "https://localhost:8080/",
          "height": 667
        },
        "outputId": "b1501388-e42f-406f-cbd1-da47d8ab4b54"
      },
      "source": [
        "#Установка необходимых библиотек\n",
        "!pip install dialogflow\n",
        "!pip install python-telegram-bot"
      ],
      "execution_count": null,
      "outputs": [
        {
          "output_type": "stream",
          "text": [
            "Collecting dialogflow\n",
            "\u001b[?25l  Downloading https://files.pythonhosted.org/packages/44/48/93d6e3b35b15c3a67fd304d5cad9cb77928110005dd16a913a8e4fb91bd0/dialogflow-1.0.0-py2.py3-none-any.whl (325kB)\n",
            "\r\u001b[K     |█                               | 10kB 14.5MB/s eta 0:00:01\r\u001b[K     |██                              | 20kB 1.7MB/s eta 0:00:01\r\u001b[K     |███                             | 30kB 2.2MB/s eta 0:00:01\r\u001b[K     |████                            | 40kB 2.5MB/s eta 0:00:01\r\u001b[K     |█████                           | 51kB 2.0MB/s eta 0:00:01\r\u001b[K     |██████                          | 61kB 2.3MB/s eta 0:00:01\r\u001b[K     |███████                         | 71kB 2.5MB/s eta 0:00:01\r\u001b[K     |████████                        | 81kB 2.7MB/s eta 0:00:01\r\u001b[K     |█████████                       | 92kB 2.9MB/s eta 0:00:01\r\u001b[K     |██████████                      | 102kB 2.7MB/s eta 0:00:01\r\u001b[K     |███████████                     | 112kB 2.7MB/s eta 0:00:01\r\u001b[K     |████████████                    | 122kB 2.7MB/s eta 0:00:01\r\u001b[K     |█████████████                   | 133kB 2.7MB/s eta 0:00:01\r\u001b[K     |██████████████                  | 143kB 2.7MB/s eta 0:00:01\r\u001b[K     |███████████████                 | 153kB 2.7MB/s eta 0:00:01\r\u001b[K     |████████████████                | 163kB 2.7MB/s eta 0:00:01\r\u001b[K     |█████████████████               | 174kB 2.7MB/s eta 0:00:01\r\u001b[K     |██████████████████              | 184kB 2.7MB/s eta 0:00:01\r\u001b[K     |███████████████████             | 194kB 2.7MB/s eta 0:00:01\r\u001b[K     |████████████████████            | 204kB 2.7MB/s eta 0:00:01\r\u001b[K     |█████████████████████▏          | 215kB 2.7MB/s eta 0:00:01\r\u001b[K     |██████████████████████▏         | 225kB 2.7MB/s eta 0:00:01\r\u001b[K     |███████████████████████▏        | 235kB 2.7MB/s eta 0:00:01\r\u001b[K     |████████████████████████▏       | 245kB 2.7MB/s eta 0:00:01\r\u001b[K     |█████████████████████████▏      | 256kB 2.7MB/s eta 0:00:01\r\u001b[K     |██████████████████████████▏     | 266kB 2.7MB/s eta 0:00:01\r\u001b[K     |███████████████████████████▏    | 276kB 2.7MB/s eta 0:00:01\r\u001b[K     |████████████████████████████▏   | 286kB 2.7MB/s eta 0:00:01\r\u001b[K     |█████████████████████████████▏  | 296kB 2.7MB/s eta 0:00:01\r\u001b[K     |██████████████████████████████▏ | 307kB 2.7MB/s eta 0:00:01\r\u001b[K     |███████████████████████████████▏| 317kB 2.7MB/s eta 0:00:01\r\u001b[K     |████████████████████████████████| 327kB 2.7MB/s \n",
            "\u001b[?25hRequirement already satisfied: google-api-core[grpc]<2.0.0dev,>=1.14.0 in /usr/local/lib/python3.6/dist-packages (from dialogflow) (1.16.0)\n",
            "Requirement already satisfied: pytz in /usr/local/lib/python3.6/dist-packages (from google-api-core[grpc]<2.0.0dev,>=1.14.0->dialogflow) (2018.9)\n",
            "Requirement already satisfied: setuptools>=34.0.0 in /usr/local/lib/python3.6/dist-packages (from google-api-core[grpc]<2.0.0dev,>=1.14.0->dialogflow) (49.1.0)\n",
            "Requirement already satisfied: six>=1.10.0 in /usr/local/lib/python3.6/dist-packages (from google-api-core[grpc]<2.0.0dev,>=1.14.0->dialogflow) (1.15.0)\n",
            "Requirement already satisfied: google-auth<2.0dev,>=0.4.0 in /usr/local/lib/python3.6/dist-packages (from google-api-core[grpc]<2.0.0dev,>=1.14.0->dialogflow) (1.17.2)\n",
            "Requirement already satisfied: googleapis-common-protos<2.0dev,>=1.6.0 in /usr/local/lib/python3.6/dist-packages (from google-api-core[grpc]<2.0.0dev,>=1.14.0->dialogflow) (1.52.0)\n",
            "Requirement already satisfied: requests<3.0.0dev,>=2.18.0 in /usr/local/lib/python3.6/dist-packages (from google-api-core[grpc]<2.0.0dev,>=1.14.0->dialogflow) (2.23.0)\n",
            "Requirement already satisfied: protobuf>=3.4.0 in /usr/local/lib/python3.6/dist-packages (from google-api-core[grpc]<2.0.0dev,>=1.14.0->dialogflow) (3.12.2)\n",
            "Requirement already satisfied: grpcio<2.0dev,>=1.8.2; extra == \"grpc\" in /usr/local/lib/python3.6/dist-packages (from google-api-core[grpc]<2.0.0dev,>=1.14.0->dialogflow) (1.30.0)\n",
            "Requirement already satisfied: pyasn1-modules>=0.2.1 in /usr/local/lib/python3.6/dist-packages (from google-auth<2.0dev,>=0.4.0->google-api-core[grpc]<2.0.0dev,>=1.14.0->dialogflow) (0.2.8)\n",
            "Requirement already satisfied: rsa<5,>=3.1.4; python_version >= \"3\" in /usr/local/lib/python3.6/dist-packages (from google-auth<2.0dev,>=0.4.0->google-api-core[grpc]<2.0.0dev,>=1.14.0->dialogflow) (4.6)\n",
            "Requirement already satisfied: cachetools<5.0,>=2.0.0 in /usr/local/lib/python3.6/dist-packages (from google-auth<2.0dev,>=0.4.0->google-api-core[grpc]<2.0.0dev,>=1.14.0->dialogflow) (4.1.1)\n",
            "Requirement already satisfied: urllib3!=1.25.0,!=1.25.1,<1.26,>=1.21.1 in /usr/local/lib/python3.6/dist-packages (from requests<3.0.0dev,>=2.18.0->google-api-core[grpc]<2.0.0dev,>=1.14.0->dialogflow) (1.24.3)\n",
            "Requirement already satisfied: certifi>=2017.4.17 in /usr/local/lib/python3.6/dist-packages (from requests<3.0.0dev,>=2.18.0->google-api-core[grpc]<2.0.0dev,>=1.14.0->dialogflow) (2020.6.20)\n",
            "Requirement already satisfied: idna<3,>=2.5 in /usr/local/lib/python3.6/dist-packages (from requests<3.0.0dev,>=2.18.0->google-api-core[grpc]<2.0.0dev,>=1.14.0->dialogflow) (2.10)\n",
            "Requirement already satisfied: chardet<4,>=3.0.2 in /usr/local/lib/python3.6/dist-packages (from requests<3.0.0dev,>=2.18.0->google-api-core[grpc]<2.0.0dev,>=1.14.0->dialogflow) (3.0.4)\n",
            "Requirement already satisfied: pyasn1<0.5.0,>=0.4.6 in /usr/local/lib/python3.6/dist-packages (from pyasn1-modules>=0.2.1->google-auth<2.0dev,>=0.4.0->google-api-core[grpc]<2.0.0dev,>=1.14.0->dialogflow) (0.4.8)\n",
            "Installing collected packages: dialogflow\n",
            "Successfully installed dialogflow-1.0.0\n",
            "Collecting python-telegram-bot\n",
            "\u001b[?25l  Downloading https://files.pythonhosted.org/packages/a6/2d/c72fc9a28144277f6170f2fcbfd3bd9427943497522b2689846596eb86cf/python_telegram_bot-12.8-py2.py3-none-any.whl (375kB)\n",
            "\u001b[K     |████████████████████████████████| 378kB 2.7MB/s \n",
            "\u001b[?25hRequirement already satisfied: certifi in /usr/local/lib/python3.6/dist-packages (from python-telegram-bot) (2020.6.20)\n",
            "Requirement already satisfied: tornado>=5.1 in /usr/local/lib/python3.6/dist-packages (from python-telegram-bot) (5.1.1)\n",
            "Requirement already satisfied: decorator>=4.4.0 in /usr/local/lib/python3.6/dist-packages (from python-telegram-bot) (4.4.2)\n",
            "Collecting cryptography\n",
            "\u001b[?25l  Downloading https://files.pythonhosted.org/packages/ba/91/84a29d6a27fd6dfc21f475704c4d2053d58ed7a4033c2b0ce1b4ca4d03d9/cryptography-3.0-cp35-abi3-manylinux2010_x86_64.whl (2.7MB)\n",
            "\u001b[K     |████████████████████████████████| 2.7MB 14.0MB/s \n",
            "\u001b[?25hRequirement already satisfied: six>=1.4.1 in /usr/local/lib/python3.6/dist-packages (from cryptography->python-telegram-bot) (1.15.0)\n",
            "Requirement already satisfied: cffi!=1.11.3,>=1.8 in /usr/local/lib/python3.6/dist-packages (from cryptography->python-telegram-bot) (1.14.0)\n",
            "Requirement already satisfied: pycparser in /usr/local/lib/python3.6/dist-packages (from cffi!=1.11.3,>=1.8->cryptography->python-telegram-bot) (2.20)\n",
            "Installing collected packages: cryptography, python-telegram-bot\n",
            "Successfully installed cryptography-3.0 python-telegram-bot-12.8\n"
          ],
          "name": "stdout"
        }
      ]
    },
    {
      "cell_type": "markdown",
      "metadata": {
        "id": "-EZSa4vrKo4E",
        "colab_type": "text"
      },
      "source": [
        "dialogflow - библиотека для обращения к сервису **DialogFlow Google**\n",
        "\n",
        "python-telegram-bot - библиотека для написания ботов для телеграмма"
      ]
    },
    {
      "cell_type": "markdown",
      "metadata": {
        "id": "wWQqh26dKq-A",
        "colab_type": "text"
      },
      "source": [
        "# Как загрузить библиотеку?"
      ]
    },
    {
      "cell_type": "markdown",
      "metadata": {
        "id": "1hGLgaAPKtIm",
        "colab_type": "text"
      },
      "source": [
        "Ключевое слово **import** говорит, что мы должны загрузить библиотеку"
      ]
    },
    {
      "cell_type": "code",
      "metadata": {
        "id": "H4NXzbC7KsVB",
        "colab_type": "code",
        "colab": {}
      },
      "source": [
        "import dialogflow_v2 "
      ],
      "execution_count": null,
      "outputs": []
    },
    {
      "cell_type": "markdown",
      "metadata": {
        "id": "grhsxrPaKvwQ",
        "colab_type": "text"
      },
      "source": [
        "Нам необходимо авторизоваться в облаке, чтобы выполнять запросы к DialogFlow, с помощью команды !gcloud auth login"
      ]
    },
    {
      "cell_type": "code",
      "metadata": {
        "id": "gUw4yv7pKy1C",
        "colab_type": "code",
        "colab": {
          "base_uri": "https://localhost:8080/",
          "height": 299
        },
        "outputId": "357a96d9-eb72-4846-f107-5fe19bb0d523"
      },
      "source": [
        "!gcloud auth login"
      ],
      "execution_count": null,
      "outputs": [
        {
          "output_type": "stream",
          "text": [
            "Go to the following link in your browser:\n",
            "\n",
            "    https://accounts.google.com/o/oauth2/auth?client_id=32555940559.apps.googleusercontent.com&redirect_uri=urn%3Aietf%3Awg%3Aoauth%3A2.0%3Aoob&scope=openid+https%3A%2F%2Fwww.googleapis.com%2Fauth%2Fuserinfo.email+https%3A%2F%2Fwww.googleapis.com%2Fauth%2Fcloud-platform+https%3A%2F%2Fwww.googleapis.com%2Fauth%2Fappengine.admin+https%3A%2F%2Fwww.googleapis.com%2Fauth%2Fcompute+https%3A%2F%2Fwww.googleapis.com%2Fauth%2Faccounts.reauth&code_challenge=mpeA0U25M36yet8gPi_QN7pn4prvY-9W-LgJm4ben-g&code_challenge_method=S256&access_type=offline&response_type=code&prompt=select_account\n",
            "\n",
            "\n",
            "Enter verification code: 4/2QEuxzAuwOhXndvC2imYC7XzdGyA0WvsEf4igfjtYjAytf8XiL6WwOs\n",
            "\n",
            "You are now logged in as [krylovdmk@gmail.com].\n",
            "Your current project is [None].  You can change this setting by running:\n",
            "  $ gcloud config set project PROJECT_ID\n",
            "\n",
            "\n",
            "To take a quick anonymous survey, run:\n",
            "  $ gcloud survey\n",
            "\n"
          ],
          "name": "stdout"
        }
      ]
    },
    {
      "cell_type": "markdown",
      "metadata": {
        "id": "5VGD0BFPK0kP",
        "colab_type": "text"
      },
      "source": [
        "# Как подключить DialogFlow"
      ]
    },
    {
      "cell_type": "markdown",
      "metadata": {
        "id": "eGsO0IuvK19k",
        "colab_type": "text"
      },
      "source": [
        "В питоне значения можно сохранять в переменные, для этого используется оператор **=** , что является оператором присваивания, так команда a = 5, присвоит переменной a значение 5"
      ]
    },
    {
      "cell_type": "code",
      "metadata": {
        "id": "2jkCfQm0K3RO",
        "colab_type": "code",
        "colab": {}
      },
      "source": [
        "#Название вашего проекта из DialogFlow\n",
        "PROJECT_ID = 'superwtfchat-gkotrc'\n",
        "#Название вашего аккаунта на DialogFlow\n",
        "ACCOUNT = 'dialogflow-eslngt@superwtfchat-gkotrc.iam.gserviceaccount.com'\n",
        "#Название файла куда мы запишем наши секретные данные для авторизации\n",
        "FileName = 'sa-key.json'\n",
        "#Ваша почта\n",
        "MAIL = 'krylovdmk@gmail.com'"
      ],
      "execution_count": null,
      "outputs": []
    },
    {
      "cell_type": "markdown",
      "metadata": {
        "id": "4SIjjPbcK49A",
        "colab_type": "text"
      },
      "source": [
        "Мы должны обратиться к gcloud, чтобы получить доступ и сохранить наши секретные данные в файл, чтобы потом их передать нашему агенту"
      ]
    },
    {
      "cell_type": "code",
      "metadata": {
        "id": "By-i06SOK6FK",
        "colab_type": "code",
        "colab": {
          "base_uri": "https://localhost:8080/",
          "height": 54
        },
        "outputId": "cd6c598e-93c8-4e0a-f529-0cac3217a515"
      },
      "source": [
        "!gcloud iam service-accounts keys create {FileName} \\\n",
        " --iam-account={ACCOUNT} --project={PROJECT_ID}"
      ],
      "execution_count": null,
      "outputs": [
        {
          "output_type": "stream",
          "text": [
            "created key [f96b22a4c30083bfcff15569f5ddd11a4e9c1074] of type [json] as [sa-key.json] for [dialogflow-eslngt@superwtfchat-gkotrc.iam.gserviceaccount.com]\n"
          ],
          "name": "stdout"
        }
      ]
    },
    {
      "cell_type": "markdown",
      "metadata": {
        "id": "rbQlwdmFK9gi",
        "colab_type": "text"
      },
      "source": [
        "# Нужно записать наш проект в gcloud"
      ]
    },
    {
      "cell_type": "code",
      "metadata": {
        "id": "SVpsNG0EK_Tl",
        "colab_type": "code",
        "colab": {
          "base_uri": "https://localhost:8080/",
          "height": 34
        },
        "outputId": "5cb9c615-0a07-4065-a774-3b0dfc75077d"
      },
      "source": [
        "!gcloud config set project {PROJECT_ID}"
      ],
      "execution_count": null,
      "outputs": [
        {
          "output_type": "stream",
          "text": [
            "Updated property [core/project].\n"
          ],
          "name": "stdout"
        }
      ]
    },
    {
      "cell_type": "markdown",
      "metadata": {
        "id": "W_uhDq3kLBXW",
        "colab_type": "text"
      },
      "source": [
        "# Снова импортируем библиотеки"
      ]
    },
    {
      "cell_type": "code",
      "metadata": {
        "id": "L1nkW4NJLCFw",
        "colab_type": "code",
        "colab": {}
      },
      "source": [
        "#Импортируем библиотеки для сохранения нашего аккаунта внутрь Python\n",
        "from google.oauth2 import service_account"
      ],
      "execution_count": null,
      "outputs": []
    },
    {
      "cell_type": "code",
      "metadata": {
        "id": "TO-G0rtTLFVu",
        "colab_type": "code",
        "colab": {}
      },
      "source": [
        "#Наши данные сохраняются в переменную credentials\n",
        "credentials = service_account.Credentials.from_service_account_file(FileName)"
      ],
      "execution_count": null,
      "outputs": []
    },
    {
      "cell_type": "markdown",
      "metadata": {
        "id": "yxNk3gh6LIOE",
        "colab_type": "text"
      },
      "source": [
        "# Самое интересное!\n",
        "После того как мы всё импортировали и сохранили наши данные для авторизации, мы можем подключиться к сервису"
      ]
    },
    {
      "cell_type": "code",
      "metadata": {
        "id": "KPV8rmgBLJ34",
        "colab_type": "code",
        "colab": {}
      },
      "source": [
        "#Тут мы создаём сессию, чтобы подключиться к DialogFlow\n",
        "session_client = dialogflow_v2.SessionsClient(credentials=credentials)\n",
        "\n",
        "#Сохраняем нашу сессию в переменную\n",
        "session = session_client.session_path(PROJECT_ID, MAIL)"
      ],
      "execution_count": null,
      "outputs": []
    },
    {
      "cell_type": "markdown",
      "metadata": {
        "id": "rKZXAlgBLLSb",
        "colab_type": "text"
      },
      "source": [
        "# Делаем запросы!"
      ]
    },
    {
      "cell_type": "code",
      "metadata": {
        "id": "PUSqoY1GLMxl",
        "colab_type": "code",
        "colab": {}
      },
      "source": [
        "#То, что мы хотим отправить боту\n",
        "text_message = 'смс' \n",
        "\n",
        "#Напишите язык\n",
        "LANG = 'ru' "
      ],
      "execution_count": null,
      "outputs": []
    },
    {
      "cell_type": "code",
      "metadata": {
        "id": "8nD8nyE5LOPd",
        "colab_type": "code",
        "colab": {
          "base_uri": "https://localhost:8080/",
          "height": 35
        },
        "outputId": "7094d445-7ba0-4ebc-b566-d12a579ddb1a"
      },
      "source": [
        "#Сохраняем наш текст в формат, который будет понятен DialogFlow\n",
        "text_input = dialogflow_v2.types.TextInput(text=text_message, language_code=LANG)\n",
        "\n",
        "#Делаем запрос к DialogFlow\n",
        "query_input = dialogflow_v2.types.QueryInput(text=text_input)\n",
        "\n",
        "#Получаем ответ от DialogFlow\n",
        "response = session_client.detect_intent(session=session, query_input=query_input)\n",
        "response.query_result.fulfillment_text"
      ],
      "execution_count": null,
      "outputs": [
        {
          "output_type": "execute_result",
          "data": {
            "application/vnd.google.colaboratory.intrinsic+json": {
              "type": "string"
            },
            "text/plain": [
              "'А вот это не совсем понятно.'"
            ]
          },
          "metadata": {
            "tags": []
          },
          "execution_count": 77
        }
      ]
    },
    {
      "cell_type": "markdown",
      "metadata": {
        "id": "F9FP3E89LPkg",
        "colab_type": "text"
      },
      "source": [
        "# ЧАСТЬ 2 - Телеграм\n",
        "![BotFather](https://core.telegram.org/file/811140327/1/zlN4goPTupk/9ff2f2f01c4bd1b013)"
      ]
    },
    {
      "cell_type": "markdown",
      "metadata": {
        "id": "IKWy30O0LiDw",
        "colab_type": "text"
      },
      "source": [
        "Нам нужно создать своего бота, для этого обратимся к отцу ботов!"
      ]
    },
    {
      "cell_type": "markdown",
      "metadata": {
        "id": "fp-rWBU6Ljz0",
        "colab_type": "text"
      },
      "source": [
        "Импорт библиотек"
      ]
    },
    {
      "cell_type": "code",
      "metadata": {
        "id": "QIMr2cVNLlHJ",
        "colab_type": "code",
        "colab": {}
      },
      "source": [
        "from telegram.ext import Updater, CommandHandler, MessageHandler, Filters"
      ],
      "execution_count": null,
      "outputs": []
    },
    {
      "cell_type": "code",
      "metadata": {
        "id": "ha8ZLA-DLmSN",
        "colab_type": "code",
        "colab": {}
      },
      "source": [
        "#Способ обращения к боту\n",
        "TOKEN = '1077478829:AAFejEWsfmWd8geDDwpXfNdblSRgtzPKm60'"
      ],
      "execution_count": null,
      "outputs": []
    },
    {
      "cell_type": "code",
      "metadata": {
        "id": "wIbi5ojSLnRz",
        "colab_type": "code",
        "colab": {
          "base_uri": "https://localhost:8080/",
          "height": 72
        },
        "outputId": "363e5df6-479c-4ae7-89d0-ca11933dffce"
      },
      "source": [
        "#Создаём бота\n",
        "updater = Updater(token=TOKEN)"
      ],
      "execution_count": null,
      "outputs": [
        {
          "output_type": "stream",
          "text": [
            "/usr/local/lib/python3.6/dist-packages/ipykernel_launcher.py:2: TelegramDeprecationWarning: Old Handler API is deprecated - see https://git.io/fxJuV for details\n",
            "  \n"
          ],
          "name": "stderr"
        }
      ]
    },
    {
      "cell_type": "markdown",
      "metadata": {
        "id": "J202R0sHLplw",
        "colab_type": "text"
      },
      "source": [
        "Updater - это наш бот!\n",
        "![ИИ](https://cs10.pikabu.ru/post_img/big/2019/12/06/10/157564803015491708.jpg)"
      ]
    },
    {
      "cell_type": "markdown",
      "metadata": {
        "id": "tsaFVwxGLr8A",
        "colab_type": "text"
      },
      "source": [
        "#Диспетчер - штука, которая отвечает за приём и отправку сообщений"
      ]
    },
    {
      "cell_type": "code",
      "metadata": {
        "id": "Sbew85E5L4b5",
        "colab_type": "code",
        "colab": {}
      },
      "source": [
        "dispatcher = updater.dispatcher"
      ],
      "execution_count": null,
      "outputs": []
    },
    {
      "cell_type": "markdown",
      "metadata": {
        "id": "Ev1r_dL3L6fU",
        "colab_type": "text"
      },
      "source": [
        "![Диспетчер](https://cs11.pikabu.ru/post_img/2019/02/25/11/1551120732187098732.jpg)"
      ]
    },
    {
      "cell_type": "markdown",
      "metadata": {
        "id": "z_znSp09L9Wk",
        "colab_type": "text"
      },
      "source": [
        "# Начинаем писать комманды! Кто-то сказал функции?"
      ]
    },
    {
      "cell_type": "code",
      "metadata": {
        "id": "ry6NlpU1L-pH",
        "colab_type": "code",
        "colab": {}
      },
      "source": [
        "def hello_world(name='Dima'):\n",
        "  hello = 'hi '\n",
        "  return hello + name "
      ],
      "execution_count": null,
      "outputs": []
    },
    {
      "cell_type": "code",
      "metadata": {
        "id": "B1fhqiNKL_dG",
        "colab_type": "code",
        "colab": {
          "base_uri": "https://localhost:8080/",
          "height": 35
        },
        "outputId": "941641fd-de1b-4168-c0ee-4c1a4dbdaa79"
      },
      "source": [
        "hello_world()"
      ],
      "execution_count": null,
      "outputs": [
        {
          "output_type": "execute_result",
          "data": {
            "application/vnd.google.colaboratory.intrinsic+json": {
              "type": "string"
            },
            "text/plain": [
              "'hi Dima'"
            ]
          },
          "metadata": {
            "tags": []
          },
          "execution_count": 84
        }
      ]
    },
    {
      "cell_type": "code",
      "metadata": {
        "id": "gJeS2385MBYF",
        "colab_type": "code",
        "colab": {}
      },
      "source": [
        "#То, что будет происходить при подключении к боту, bot - наш бот, update - что к нам пришло!\n",
        "def startCommand(bot, update):\n",
        "    #Тут бот просто отправляет сообщение в чат, у которого id = update.message.chat_id\n",
        "    bot.send_message(chat_id=update.message.chat_id, text='Привет, я тут!')"
      ],
      "execution_count": null,
      "outputs": []
    },
    {
      "cell_type": "code",
      "metadata": {
        "id": "u-lQlYjoMCUl",
        "colab_type": "code",
        "colab": {}
      },
      "source": [
        "def textMessage(bot, update):\n",
        "    #Ввод текста\n",
        "    text_input = dialogflow_v2.types.TextInput(text=update.message.text, language_code='ru')\n",
        "    #Ввод query\n",
        "    query_input = dialogflow_v2.types.QueryInput(text=text_input)\n",
        "    #Ввод response\n",
        "    response = session_client.detect_intent(session=session, query_input=query_input)\n",
        "    #Получаем результаты от DialogFlow\n",
        "    response = response.query_result.fulfillment_text\n",
        "    #Отправляем боту сообщению \n",
        "    bot.send_message(chat_id=update.message.chat_id, text=response)"
      ],
      "execution_count": null,
      "outputs": []
    },
    {
      "cell_type": "code",
      "metadata": {
        "id": "OorMGSWFMDKt",
        "colab_type": "code",
        "colab": {}
      },
      "source": [
        "# Хендлеры\n",
        "start_command_handler = CommandHandler('start', startCommand)\n",
        "text_message_handler = MessageHandler(Filters.text, textMessage)\n",
        "# Добавляем хендлеры в диспетчер\n",
        "dispatcher.add_handler(start_command_handler)\n",
        "dispatcher.add_handler(text_message_handler)\n",
        "# Начинаем поиск обновлений\n",
        "updater.start_polling(clean=True)\n",
        "# Останавливаем бота\n",
        "updater.idle()"
      ],
      "execution_count": null,
      "outputs": []
    },
    {
      "cell_type": "code",
      "metadata": {
        "id": "uE3g2bcQpjyE",
        "colab_type": "code",
        "colab": {}
      },
      "source": [
        ""
      ],
      "execution_count": null,
      "outputs": []
    },
    {
      "cell_type": "markdown",
      "metadata": {
        "id": "gVagzt9fpkTK",
        "colab_type": "text"
      },
      "source": [
        "# Бонус"
      ]
    },
    {
      "cell_type": "code",
      "metadata": {
        "id": "_St0jHjcplU4",
        "colab_type": "code",
        "colab": {}
      },
      "source": [
        "import urllib.request # библиотека для скачивания данных\n",
        "import gensim # библиотека для загрузки и использвоания моделй w2v\n",
        "from gensim.models import word2vec # непосредственно методы w2v"
      ],
      "execution_count": null,
      "outputs": []
    },
    {
      "cell_type": "code",
      "metadata": {
        "id": "90GErmRTpmZw",
        "colab_type": "code",
        "colab": {
          "base_uri": "https://localhost:8080/",
          "height": 52
        },
        "outputId": "4b732bde-0330-4008-dab0-76024e81f701"
      },
      "source": [
        "# скачиваем модель ruscorpora_mystem_cbow_300 с сайта rusvectores\n",
        "# 300 - размерность вектора embeddings для слов\n",
        " \n",
        "urllib.request.urlretrieve(\"http://rusvectores.org/static/models/rusvectores2/ruscorpora_mystem_cbow_300_2_2015.bin.gz\",\n",
        "                           \"ruscorpora_mystem_cbow_300_2_2015.bin.gz\")"
      ],
      "execution_count": null,
      "outputs": [
        {
          "output_type": "execute_result",
          "data": {
            "text/plain": [
              "('ruscorpora_mystem_cbow_300_2_2015.bin.gz',\n",
              " <http.client.HTTPMessage at 0x7f53ddf7e2b0>)"
            ]
          },
          "metadata": {
            "tags": []
          },
          "execution_count": 32
        }
      ]
    },
    {
      "cell_type": "code",
      "metadata": {
        "id": "obWHbj4UppTB",
        "colab_type": "code",
        "colab": {
          "base_uri": "https://localhost:8080/",
          "height": 72
        },
        "outputId": "1ba73c1b-780a-47e5-a9d0-aa4e7e15f425"
      },
      "source": [
        "model_path = 'ruscorpora_mystem_cbow_300_2_2015.bin.gz'\n",
        "\n",
        "model_ru = gensim.models.KeyedVectors.load_word2vec_format(model_path, binary=True)"
      ],
      "execution_count": null,
      "outputs": [
        {
          "output_type": "stream",
          "text": [
            "/usr/local/lib/python3.6/dist-packages/smart_open/smart_open_lib.py:254: UserWarning: This function is deprecated, use smart_open.open instead. See the migration notes for details: https://github.com/RaRe-Technologies/smart_open/blob/master/README.rst#migrating-to-the-new-open-function\n",
            "  'See the migration notes for details: %s' % _MIGRATION_NOTES_URL\n"
          ],
          "name": "stderr"
        }
      ]
    },
    {
      "cell_type": "code",
      "metadata": {
        "id": "XZkyHIHrpqpa",
        "colab_type": "code",
        "colab": {}
      },
      "source": [
        "words = ['день_S', 'ночь_S', 'человек_S', 'семантика_S', 'биткоин_S']"
      ],
      "execution_count": null,
      "outputs": []
    },
    {
      "cell_type": "code",
      "metadata": {
        "id": "qyW0QtqUpsSS",
        "colab_type": "code",
        "colab": {
          "base_uri": "https://localhost:8080/",
          "height": 1000
        },
        "outputId": "07491c77-e6db-4e87-fdd1-551be7c94507"
      },
      "source": [
        "for word in words:\n",
        "    # есть ли слово в модели? \n",
        "    if word in model_ru:\n",
        "        print(word)\n",
        "        # смотрим на вектор слова (его размерность 300, смотрим на первые 10 чисел)\n",
        "        print(model_ru[word][:10])\n",
        "        # выдаем 10 ближайших соседей слова:\n",
        "        for word, sim in model_ru.most_similar(positive=[word], topn=10):\n",
        "            # слово + коэффициент косинусной близости\n",
        "            print(word, ': ', sim)\n",
        "        print('\\n')\n",
        "    else:\n",
        "        # Увы!\n",
        "        print('Увы, слова \"%s\" нет в модели!' % word)"
      ],
      "execution_count": null,
      "outputs": [
        {
          "output_type": "stream",
          "text": [
            "день_S\n",
            "[-0.02580778  0.00970898  0.01941961 -0.02332282  0.02017624  0.07275085\n",
            " -0.01444375  0.03316632  0.01242602  0.02833412]\n",
            "неделя_S :  0.7165195941925049\n",
            "месяц_S :  0.631048858165741\n",
            "вечер_S :  0.5828739404678345\n",
            "утро_S :  0.5676207542419434\n",
            "час_S :  0.5605547428131104\n",
            "минута_S :  0.5297019481658936\n",
            "гекатомбеон_S :  0.4897990822792053\n",
            "денек_S :  0.48224714398384094\n",
            "полчаса_S :  0.48217129707336426\n",
            "ночь_S :  0.478074848651886\n",
            "\n",
            "\n",
            "ночь_S\n",
            "[-0.00688948  0.00408364  0.06975466 -0.00959525  0.0194835   0.04057068\n",
            " -0.00994112  0.06064967 -0.00522624  0.00520327]\n",
            "вечер_S :  0.6946247816085815\n",
            "утро_S :  0.57301926612854\n",
            "ноченька_S :  0.5582467317581177\n",
            "рассвет_S :  0.5553582906723022\n",
            "ночка_S :  0.5351512432098389\n",
            "полдень_S :  0.5334426164627075\n",
            "полночь_S :  0.478694349527359\n",
            "день_S :  0.4780748784542084\n",
            "сумерки_S :  0.4390218257904053\n",
            "фундерфун_S :  0.4340824782848358\n",
            "\n",
            "\n",
            "человек_S\n",
            "[ 0.02013756 -0.02670703 -0.02039861 -0.05477146  0.00086402 -0.01636335\n",
            "  0.04240306 -0.00025525 -0.14045681  0.04785006]\n",
            "женщина_S :  0.5979775190353394\n",
            "парень_S :  0.4991787374019623\n",
            "мужчина_S :  0.4767409563064575\n",
            "мужик_S :  0.47384002804756165\n",
            "россиянин_S :  0.47190436720848083\n",
            "народ_S :  0.4654741883277893\n",
            "согражданин_S :  0.45378512144088745\n",
            "горожанин_S :  0.44368088245391846\n",
            "девушка_S :  0.44314485788345337\n",
            "иностранец_S :  0.43849867582321167\n",
            "\n",
            "\n",
            "семантика_S\n",
            "[-0.03066749  0.0053851   0.1110732   0.0152335   0.00440643  0.00384104\n",
            "  0.00096944 -0.03538784 -0.00079585  0.03220548]\n",
            "семантический_A :  0.5334584712982178\n",
            "понятие_S :  0.5030269622802734\n",
            "сочетаемость_S :  0.4817051291465759\n",
            "актант_S :  0.47596412897109985\n",
            "хронотоп_S :  0.46330299973487854\n",
            "метафора_S :  0.46158894896507263\n",
            "мышление_S :  0.4610119163990021\n",
            "парадигма_S :  0.45796656608581543\n",
            "лексема_S :  0.45688074827194214\n",
            "смысловой_A :  0.4543077349662781\n",
            "\n",
            "\n",
            "Увы, слова \"биткоин_S\" нет в модели!\n"
          ],
          "name": "stdout"
        },
        {
          "output_type": "stream",
          "text": [
            "/usr/local/lib/python3.6/dist-packages/gensim/matutils.py:737: FutureWarning: Conversion of the second argument of issubdtype from `int` to `np.signedinteger` is deprecated. In future, it will be treated as `np.int64 == np.dtype(int).type`.\n",
            "  if np.issubdtype(vec.dtype, np.int):\n"
          ],
          "name": "stderr"
        }
      ]
    },
    {
      "cell_type": "code",
      "metadata": {
        "id": "3vK8xRndptMk",
        "colab_type": "code",
        "colab": {
          "base_uri": "https://localhost:8080/",
          "height": 89
        },
        "outputId": "2b34bd48-6d8d-4054-f8fe-a4028d514ab4"
      },
      "source": [
        "print(model_ru.similarity('человек_S', 'обезьяна_S'))"
      ],
      "execution_count": null,
      "outputs": [
        {
          "output_type": "stream",
          "text": [
            "0.23895611\n"
          ],
          "name": "stdout"
        },
        {
          "output_type": "stream",
          "text": [
            "/usr/local/lib/python3.6/dist-packages/gensim/matutils.py:737: FutureWarning: Conversion of the second argument of issubdtype from `int` to `np.signedinteger` is deprecated. In future, it will be treated as `np.int64 == np.dtype(int).type`.\n",
            "  if np.issubdtype(vec.dtype, np.int):\n"
          ],
          "name": "stderr"
        }
      ]
    },
    {
      "cell_type": "code",
      "metadata": {
        "id": "PkwMygLHpwc8",
        "colab_type": "code",
        "colab": {
          "base_uri": "https://localhost:8080/",
          "height": 89
        },
        "outputId": "4d29e4d6-cfd9-4e5a-e71f-c4daf759fd9c"
      },
      "source": [
        "print(model_ru.most_similar(positive=['футбол_S', 'россия_S'], negative=['хоккей_S'])[0][0])"
      ],
      "execution_count": null,
      "outputs": [
        {
          "output_type": "stream",
          "text": [
            "страна_S\n"
          ],
          "name": "stdout"
        },
        {
          "output_type": "stream",
          "text": [
            "/usr/local/lib/python3.6/dist-packages/gensim/matutils.py:737: FutureWarning: Conversion of the second argument of issubdtype from `int` to `np.signedinteger` is deprecated. In future, it will be treated as `np.int64 == np.dtype(int).type`.\n",
            "  if np.issubdtype(vec.dtype, np.int):\n"
          ],
          "name": "stderr"
        }
      ]
    },
    {
      "cell_type": "code",
      "metadata": {
        "id": "LdEA2FLKpxap",
        "colab_type": "code",
        "colab": {
          "base_uri": "https://localhost:8080/",
          "height": 89
        },
        "outputId": "e229ab6b-b749-45d3-de6d-e5c3bf2632a0"
      },
      "source": [
        "# придумайте и проверьте с помощью метода most_similar какую-нибудь  аналогию\n",
        "print(model_ru.most_similar(positive=['борщ_S', 'италия_S'], negative=['пицца_S'])[0][0])"
      ],
      "execution_count": null,
      "outputs": [
        {
          "output_type": "stream",
          "text": [
            "англия_S\n"
          ],
          "name": "stdout"
        },
        {
          "output_type": "stream",
          "text": [
            "/usr/local/lib/python3.6/dist-packages/gensim/matutils.py:737: FutureWarning: Conversion of the second argument of issubdtype from `int` to `np.signedinteger` is deprecated. In future, it will be treated as `np.int64 == np.dtype(int).type`.\n",
            "  if np.issubdtype(vec.dtype, np.int):\n"
          ],
          "name": "stderr"
        }
      ]
    },
    {
      "cell_type": "code",
      "metadata": {
        "id": "QqMPpEADp2Cy",
        "colab_type": "code",
        "colab": {
          "base_uri": "https://localhost:8080/",
          "height": 125
        },
        "outputId": "7e777f57-8558-483f-9acc-cc0d8ae21db3"
      },
      "source": [
        "model_ru.doesnt_match('пицца_S пельмень_S хот-дог_S ананас_S'.split())"
      ],
      "execution_count": null,
      "outputs": [
        {
          "output_type": "stream",
          "text": [
            "/usr/local/lib/python3.6/dist-packages/gensim/models/keyedvectors.py:895: FutureWarning: arrays to stack must be passed as a \"sequence\" type such as list or tuple. Support for non-sequence iterables such as generators is deprecated as of NumPy 1.16 and will raise an error in the future.\n",
            "  vectors = vstack(self.word_vec(word, use_norm=True) for word in used_words).astype(REAL)\n",
            "/usr/local/lib/python3.6/dist-packages/gensim/matutils.py:737: FutureWarning: Conversion of the second argument of issubdtype from `int` to `np.signedinteger` is deprecated. In future, it will be treated as `np.int64 == np.dtype(int).type`.\n",
            "  if np.issubdtype(vec.dtype, np.int):\n"
          ],
          "name": "stderr"
        },
        {
          "output_type": "execute_result",
          "data": {
            "application/vnd.google.colaboratory.intrinsic+json": {
              "type": "string"
            },
            "text/plain": [
              "'ананас_S'"
            ]
          },
          "metadata": {
            "tags": []
          },
          "execution_count": 39
        }
      ]
    },
    {
      "cell_type": "code",
      "metadata": {
        "id": "x3PrvcKjp3qj",
        "colab_type": "code",
        "colab": {}
      },
      "source": [
        ""
      ],
      "execution_count": null,
      "outputs": []
    }
  ]
}